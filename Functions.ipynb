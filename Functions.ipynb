{
  "nbformat": 4,
  "nbformat_minor": 0,
  "metadata": {
    "colab": {
      "name": "Functions.ipynb",
      "provenance": [],
      "collapsed_sections": [],
      "authorship_tag": "ABX9TyP+3aOJz+Xrs54g3VBQ4847",
      "include_colab_link": true
    },
    "kernelspec": {
      "name": "python3",
      "display_name": "Python 3"
    }
  },
  "cells": [
    {
      "cell_type": "markdown",
      "metadata": {
        "id": "view-in-github",
        "colab_type": "text"
      },
      "source": [
        "<a href=\"https://colab.research.google.com/github/Fongkk/Employment-Management-System/blob/master/Functions.ipynb\" target=\"_parent\"><img src=\"https://colab.research.google.com/assets/colab-badge.svg\" alt=\"Open In Colab\"/></a>"
      ]
    },
    {
      "cell_type": "markdown",
      "metadata": {
        "id": "fDZJDIqreLpI"
      },
      "source": [
        ""
      ]
    },
    {
      "cell_type": "markdown",
      "metadata": {
        "id": "DV780k_1B0rU"
      },
      "source": [
        "Fiboncci"
      ]
    },
    {
      "cell_type": "code",
      "metadata": {
        "id": "i6BRjkHeeNh8",
        "colab": {
          "base_uri": "https://localhost:8080/"
        },
        "outputId": "f5eb41bb-55e7-487a-e986-5ec3e4f27f3b"
      },
      "source": [
        "def fib(n):\r\n",
        "  #print(\"-\", n, \"-\")\r\n",
        "  if n < 2:\r\n",
        "    return n\r\n",
        "  else:\r\n",
        "    return fib(n-1)+fib(n-2)  \r\n",
        "print (fib(7))\r\n"
      ],
      "execution_count": 13,
      "outputs": [
        {
          "output_type": "stream",
          "text": [
            "13\n"
          ],
          "name": "stdout"
        }
      ]
    }
  ]
}